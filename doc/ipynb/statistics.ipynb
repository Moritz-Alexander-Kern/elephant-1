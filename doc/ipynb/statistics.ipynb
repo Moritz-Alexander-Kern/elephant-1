{
 "cells": [
  {
   "cell_type": "markdown",
   "metadata": {},
   "source": [
    "# Statistics\n",
    "This notebook provides an overview of the functions provided by the elephant `statistics` module.\n"
   ]
  },
  {
   "cell_type": "code",
   "execution_count": 1,
   "metadata": {},
   "outputs": [],
   "source": [
    "from elephant.statistics import *"
   ]
  },
  {
   "cell_type": "markdown",
   "metadata": {},
   "source": [
    "All measures presented here require one or two spiketrains as input. We first generate two spiketrains using the elephant `spike_train_generation` module."
   ]
  },
  {
   "cell_type": "code",
   "execution_count": 50,
   "metadata": {},
   "outputs": [],
   "source": [
    "from elephant.spike_train_generation import homogeneous_poisson_process, homogeneous_gamma_process\n",
    "from numpy import array\n",
    "from quantities import ms, Hz\n",
    "homogeneous_poisson_process\n",
    "spiketrain1 = homogeneous_poisson_process(10*Hz, t_start=array(0.) * ms, t_stop=array(10000.) * ms)\n",
    "spiketrain2 = homogeneous_gamma_process(3, 10*Hz, t_start=array(0.) * ms, t_stop=array(10000.) * ms)"
   ]
  },
  {
   "cell_type": "markdown",
   "metadata": {},
   "source": [
    "## Rate estimation\n",
    "\n",
    "Elephant offers three approaches for estimating the underlying rate of a spike train. These functions all take a spike train as input and provide an estimate of the rate using different approaches.\n",
    "\n",
    "\n",
    "    mean_firing_rate\n",
    "    instantaneous_rate\n",
    "    time_histogram\n",
    "    sskernel\n",
    "\n"
   ]
  },
  {
   "cell_type": "markdown",
   "metadata": {},
   "source": [
    "### Mean firing rate"
   ]
  },
  {
   "cell_type": "markdown",
   "metadata": {},
   "source": [
    "The simplest approach is to assume a stationary firing rate and only use the total number of spikes and the duration of the spike train to calculate the average number of spikes per time unit. This results in a single value for a given spiketrain."
   ]
  },
  {
   "cell_type": "code",
   "execution_count": 51,
   "metadata": {},
   "outputs": [
    {
     "data": {
      "text/plain": [
       "array(0.0074) * 1/ms"
      ]
     },
     "execution_count": 51,
     "metadata": {},
     "output_type": "execute_result"
    }
   ],
   "source": [
    "mean_firing_rate(spiketrain1)"
   ]
  },
  {
   "cell_type": "markdown",
   "metadata": {},
   "source": [
    "Additionally, the period within the spike train during which to estimate the firing rate can be further limited using the `t_start` and `t_stop` keyword arguments. Here, we limit the firing rate estimation to the first second of the spiketrain."
   ]
  },
  {
   "cell_type": "code",
   "execution_count": 52,
   "metadata": {},
   "outputs": [
    {
     "data": {
      "text/plain": [
       "array(0.004) * 1/ms"
      ]
     },
     "execution_count": 52,
     "metadata": {},
     "output_type": "execute_result"
    }
   ],
   "source": [
    "mean_firing_rate(spiketrain1, t_start=0*ms, t_stop=1000*ms)"
   ]
  },
  {
   "cell_type": "markdown",
   "metadata": {},
   "source": [
    "In some (rare) cases multiple spiketrains can be represented in multidimensional arrays when they contain the same number of spikes. In such cases, the mean firing rate can be calculated for multiple spiketrains at once by specifying the axis the along which to calculate the firing rate. By default, if no axis is specified, all spiketrains are pooled together before estimating the firing rate."
   ]
  },
  {
   "cell_type": "code",
   "execution_count": 53,
   "metadata": {},
   "outputs": [
    {
     "data": {
      "text/plain": [
       "array([0.4, 0.4, 0.2]) * 1/ms"
      ]
     },
     "execution_count": 53,
     "metadata": {},
     "output_type": "execute_result"
    }
   ],
   "source": [
    "multi_spiketrains = array([[1,2,3],[4,5,6],[7,8,9]])*ms\n",
    "mean_firing_rate(multi_spiketrains, axis=0, t_start=0*ms, t_stop=5*ms)"
   ]
  },
  {
   "cell_type": "markdown",
   "metadata": {},
   "source": [
    "### Time histogram\n",
    "The time histogram is a time resolved way of the firing rate estimation. Here, the spiketrains are binned and either the count or the mean count or the rate of the spiketrains is returned, depending on the `output` parameter. The result is a count (mean count/rate value) for each of the bins evaluated. This is represented as a neo `AnalogSignal` object with the corresponding sampling rate and the count (mean count/rate) values as data.\n",
    "\n",
    "Here, we compute the counts of spikes in bins of 500 millisecond width."
   ]
  },
  {
   "cell_type": "code",
   "execution_count": 110,
   "metadata": {},
   "outputs": [],
   "source": [
    "th1 = time_histogram([spiketrain1], 500*ms)"
   ]
  },
  {
   "cell_type": "markdown",
   "metadata": {},
   "source": [
    "This returns an `AnalogSignal` where each sample is the count of spike in the bin corresponding to the sampling time."
   ]
  },
  {
   "cell_type": "code",
   "execution_count": 127,
   "metadata": {},
   "outputs": [
    {
     "name": "stdout",
     "output_type": "stream",
     "text": [
      "times: [   0.  500. 1000. 1500. 2000. 2500. 3000. 3500. 4000. 4500. 5000. 5500.\n",
      " 6000. 6500. 7000. 7500. 8000. 8500. 9000. 9500.] ms\n",
      "counts: [[2. 2. 4. 4. 6. 2. 9. 3. 4. 3. 3. 1. 4. 7. 4. 4. 3. 1. 3. 5.]] dimensionless\n"
     ]
    }
   ],
   "source": [
    "print('times:', th1.times)\n",
    "print('counts:', th1[:,0].T)"
   ]
  },
  {
   "cell_type": "markdown",
   "metadata": {},
   "source": [
    "Alternatively, `time_histogram` can also normalize the resulting array to represent a mean counts or a rate."
   ]
  },
  {
   "cell_type": "code",
   "execution_count": 128,
   "metadata": {},
   "outputs": [],
   "source": [
    "th2 = time_histogram([spiketrain1], 500*ms, output='rate')"
   ]
  },
  {
   "cell_type": "code",
   "execution_count": 129,
   "metadata": {},
   "outputs": [
    {
     "name": "stdout",
     "output_type": "stream",
     "text": [
      "times: [   0.  500. 1000. 1500. 2000. 2500. 3000. 3500. 4000. 4500. 5000. 5500.\n",
      " 6000. 6500. 7000. 7500. 8000. 8500. 9000. 9500.] ms\n",
      "rate: [[0.004 0.004 0.008 0.008 0.012 0.004 0.018 0.006 0.008 0.006 0.006 0.002\n",
      "  0.008 0.014 0.008 0.008 0.006 0.002 0.006 0.01 ]] 1/ms\n"
     ]
    }
   ],
   "source": [
    "print('times:', th2.times)\n",
    "print('rate:', th2[:,0].T)"
   ]
  },
  {
   "cell_type": "markdown",
   "metadata": {},
   "source": [
    "Additionally, `time_histogram` can be limited to a shorter time period by using the keyword arguments `t_start` and `t_stop`, as described for `mean_firing_rate`."
   ]
  },
  {
   "cell_type": "markdown",
   "metadata": {},
   "source": [
    "### Instantaneous rate"
   ]
  },
  {
   "cell_type": "markdown",
   "metadata": {},
   "source": [
    "The instantaneous rate is, similar to the time histogram (see above), providing a continuous estimate of the underlying firing rate of a spike train. Here, the firing rate is estimated as a convolution of the spiketrain with a firing rate kernel, representing the contribution of a single spike to the firing rate. In contrast to the time histogram, the instantaneous rate provides a smooth firing rate estimate as it does not rely on binning of the spiketrain.\n",
    "\n",
    "Estimation of the instantaneous rate requires a sampling period on which the firing rate is estimated. Here we use a sampling rate of 50 millisecond."
   ]
  },
  {
   "cell_type": "code",
   "execution_count": 170,
   "metadata": {},
   "outputs": [],
   "source": [
    "ir = instantaneous_rate(spiketrain1, 50*ms)"
   ]
  },
  {
   "cell_type": "markdown",
   "metadata": {},
   "source": [
    "The resulting rate estimate is again an `AnalogSignal` with the sampling rate defined above."
   ]
  },
  {
   "cell_type": "code",
   "execution_count": 171,
   "metadata": {},
   "outputs": [
    {
     "name": "stdout",
     "output_type": "stream",
     "text": [
      "sampling rate: 0.02 1/ms\n",
      "times: [  0.   1.   2.   3.   4.   5.   6.   7.   8.   9.  10.  11.  12.  13.\n",
      "  14.  15.  16.  17.  18.  19.  20.  21.  22.  23.  24.  25.  26.  27.\n",
      "  28.  29.  30.  31.  32.  33.  34.  35.  36.  37.  38.  39.  40.  41.\n",
      "  42.  43.  44.  45.  46.  47.  48.  49.  50.  51.  52.  53.  54.  55.\n",
      "  56.  57.  58.  59.  60.  61.  62.  63.  64.  65.  66.  67.  68.  69.\n",
      "  70.  71.  72.  73.  74.  75.  76.  77.  78.  79.  80.  81.  82.  83.\n",
      "  84.  85.  86.  87.  88.  89.  90.  91.  92.  93.  94.  95.  96.  97.\n",
      "  98.  99. 100. 101. 102. 103. 104. 105. 106. 107. 108. 109. 110. 111.\n",
      " 112. 113. 114. 115. 116. 117. 118. 119. 120. 121. 122. 123. 124. 125.\n",
      " 126. 127. 128. 129. 130. 131. 132. 133. 134. 135. 136. 137. 138. 139.\n",
      " 140. 141. 142. 143. 144. 145. 146. 147. 148. 149. 150. 151. 152. 153.\n",
      " 154. 155. 156. 157. 158. 159. 160. 161. 162. 163. 164. 165. 166. 167.\n",
      " 168. 169. 170. 171. 172. 173. 174. 175. 176. 177. 178. 179. 180. 181.\n",
      " 182. 183. 184. 185. 186. 187. 188. 189. 190. 191. 192. 193. 194. 195.\n",
      " 196. 197. 198. 199.] (0.05*s)\n",
      "instantaneous rate: [[3.34887666 3.44728781 3.54657064 3.64664974 3.74744735 3.84888352\n",
      "  3.95087619 4.05334137 4.15619417 4.25934551 4.36270724 4.46618912\n",
      "  4.56969975 4.67314675 4.77643692 4.87947643 4.982171   5.08442608\n",
      "  5.18614706 5.28723941 5.38761074 5.48716493 5.58580885 5.68345116\n",
      "  5.7800017  5.87536907 5.96946573 6.06220506 6.1535023  6.24327471\n",
      "  6.33144182 6.41792555 6.50265226 6.58554777 6.66654061 6.74556578\n",
      "  6.82256001 6.8974635  6.97022009 7.04077735 7.1090868  7.17510397\n",
      "  7.23878859 7.30010466 7.35902058 7.41550926 7.46954818 7.52111948\n",
      "  7.57021005 7.61681153 7.66092041 7.702538   7.7416705  7.77832895\n",
      "  7.81252923 7.84429207 7.87364292 7.90061198 7.92523404 7.94754844\n",
      "  7.96759895 7.9854336  8.00110461 8.01466815 8.02618421 8.03571642\n",
      "  8.0433318  8.04910053 8.05309578 8.05539337 8.05607158 8.05521081\n",
      "  8.05289333 8.04920296 8.04422477 8.03804475 8.0307495  8.02242587\n",
      "  8.01316068 8.00304032 7.99215043 7.9805756  7.96839896 7.95570194\n",
      "  7.94256385 7.92906162 7.91526947 7.90125861 7.88709693 7.87284877\n",
      "  7.85857463 7.84433093 7.83016977 7.81613878 7.80228086 7.78863408\n",
      "  7.7752315  7.76210109 7.7492656  7.73674254 7.72454408 7.71267711\n",
      "  7.7011432  7.68993866 7.67905458 7.66847698 7.65818688 7.64816044\n",
      "  7.63836915 7.62878001 7.61935575 7.61005505 7.6008328  7.59164036\n",
      "  7.58242587 7.57313451 7.56370887 7.55408924 7.54421394 7.53401966\n",
      "  7.52344186 7.51241504 7.50087313 7.48874986 7.47597905 7.46249501\n",
      "  7.44823282 7.43312869 7.41712025 7.40014687 7.38214992 7.36307307\n",
      "  7.3428625  7.32146717 7.29883901 7.27493314 7.249708   7.22312553\n",
      "  7.1951513  7.16575458 7.13490845 7.10258985 7.06877961 7.03346246\n",
      "  6.99662705 6.95826587 6.91837524 6.87695522 6.83400953 6.78954544\n",
      "  6.74357366 6.69610819 6.64716617 6.59676776 6.5449359  6.49169622\n",
      "  6.43707677 6.38110791 6.32382205 6.26525352 6.20543832 6.14441397\n",
      "  6.0822193  6.01889429 5.95447986 5.8890177  5.82255015 5.75512\n",
      "  5.68677035 5.61754449 5.54748578 5.47663751 5.40504218 5.3327441\n",
      "  5.25978509 5.18620737 5.11205204 5.03736116 4.96217618 4.88653593\n",
      "  4.81048159 4.73405158 4.65728459 4.58021883 4.50289199 4.42534133\n",
      "  4.34760369 4.26971554 4.19171303 4.11363132 4.03550747 3.9573761\n",
      "  3.87927181 3.80123053 3.723288   3.6454785  3.56783643 3.49039832\n",
      "  3.41319787 3.33627173]] Hz\n"
     ]
    }
   ],
   "source": [
    "print('sampling rate:', ir.sampling_rate)\n",
    "print('times:', ir.times)\n",
    "print('instantaneous rate:', ir[:,0].T)"
   ]
  },
  {
   "cell_type": "markdown",
   "metadata": {},
   "source": [
    "Additionally, also the type of kernel used for the convolution can be specified via the `kernel` keyword argument. E.g. to use an gaussian kernel, we specify the following."
   ]
  },
  {
   "cell_type": "code",
   "execution_count": 177,
   "metadata": {},
   "outputs": [],
   "source": [
    "from elephant.kernels import GaussianKernel\n",
    "ir2 = instantaneous_rate(spiketrain1, 20*ms, kernel=GaussianKernel(200*ms))"
   ]
  },
  {
   "cell_type": "markdown",
   "metadata": {},
   "source": [
    "To compare all three methods of firing rate estimation, we visualize the results of all methods in a common plot."
   ]
  },
  {
   "cell_type": "code",
   "execution_count": 197,
   "metadata": {},
   "outputs": [
    {
     "data": {
      "image/png": "[encoded data removed]",
      "text/plain": [
       "<Figure size 1080x720 with 1 Axes>"
      ]
     },
     "metadata": {
      "needs_background": "light"
     },
     "output_type": "display_data"
    }
   ],
   "source": [
    "import matplotlib.pyplot as plt\n",
    "plt.figure(figsize=(15,10))\n",
    "\n",
    "# plotting original spiketrain\n",
    "plt.plot(spiketrain1, [0]*len(spiketrain1), 'r', marker=2, ms=25, markeredgewidth=5, lw=0, label='poisson spike times')\n",
    "\n",
    "# mean firing rate\n",
    "plt.hlines(mean_firing_rate(spiketrain1), xmin=spiketrain1.t_start, xmax=spiketrain1.t_stop, label='mean_firing_rate')\n",
    "\n",
    "# time histogram\n",
    "plt.bar(th.times, th.magnitude.flatten(), width=th.sampling_period, align='edge', alpha=0.3, label='time histogram (rate)')\n",
    "\n",
    "# instantaneous rate\n",
    "plt.plot(ir.times.rescale(ms), ir.rescale(th.dimensionality).magnitude.flatten(), label='instantaneous rate')\n",
    "\n",
    "# axis labels and legend\n",
    "plt.xlabel('time [{}]'.format(spiketrain1.times.dimensionality.latex))\n",
    "plt.ylabel('firing rate [{}]'.format(th.dimensionality.latex))\n",
    "plt.legend()\n",
    "plt.show()"
   ]
  },
  {
   "cell_type": "markdown",
   "metadata": {},
   "source": [
    "# TODO"
   ]
  },
  {
   "cell_type": "markdown",
   "metadata": {},
   "source": [
    "## Spike interval statistics"
   ]
  },
  {
   "cell_type": "markdown",
   "metadata": {},
   "source": [
    "## Statistics across spike trains"
   ]
  }
 ],
 "metadata": {
  "kernelspec": {
   "display_name": "Python 3",
   "language": "python",
   "name": "python3"
  },
  "language_info": {
   "codemirror_mode": {
    "name": "ipython",
    "version": 3
   },
   "file_extension": ".py",
   "mimetype": "text/x-python",
   "name": "python",
   "nbconvert_exporter": "python",
   "pygments_lexer": "ipython3",
   "version": "3.7.1"
  }
 },
 "nbformat": 4,
 "nbformat_minor": 4
}
